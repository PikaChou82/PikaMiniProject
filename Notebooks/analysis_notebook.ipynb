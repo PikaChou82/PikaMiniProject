{
  "cells": [
    {
      "cell_type": "markdown",
      "metadata": {
        "id": "wkjxj3eSyAJN"
      },
      "source": [
        "# **Import des Librairies**"
      ]
    },
    {
      "cell_type": "code",
      "execution_count": 1,
      "metadata": {
        "colab": {
          "base_uri": "https://localhost:8080/"
        },
        "id": "UewgKc20yAJO",
        "outputId": "0b3603fd-1742-41c1-8c58-87fd745fc76e"
      },
      "outputs": [
        {
          "name": "stdout",
          "output_type": "stream",
          "text": [
            "Requirement already satisfied: psycopg2 in /usr/local/lib/python3.11/dist-packages (2.9.10)\n"
          ]
        }
      ],
      "source": [
        "!pip install psycopg2"
      ]
    },
    {
      "cell_type": "code",
      "execution_count": 2,
      "metadata": {
        "colab": {
          "base_uri": "https://localhost:8080/"
        },
        "id": "ulOD8mweyAJO",
        "outputId": "2fd0532a-c6ca-451f-a75a-7b91074bf67e"
      },
      "outputs": [
        {
          "name": "stdout",
          "output_type": "stream",
          "text": [
            "Requirement already satisfied: sqlalchemy in /usr/local/lib/python3.11/dist-packages (2.0.37)\n",
            "Requirement already satisfied: greenlet!=0.4.17 in /usr/local/lib/python3.11/dist-packages (from sqlalchemy) (3.1.1)\n",
            "Requirement already satisfied: typing-extensions>=4.6.0 in /usr/local/lib/python3.11/dist-packages (from sqlalchemy) (4.12.2)\n"
          ]
        }
      ],
      "source": [
        "!pip install sqlalchemy"
      ]
    },
    {
      "cell_type": "code",
      "execution_count": 3,
      "metadata": {
        "colab": {
          "base_uri": "https://localhost:8080/"
        },
        "id": "6OWRZjhwyAJP",
        "outputId": "86c511d0-c06e-47db-8c76-127eae6b48b0"
      },
      "outputs": [
        {
          "name": "stdout",
          "output_type": "stream",
          "text": [
            "Collecting psycopg2-binary\n",
            "  Downloading psycopg2_binary-2.9.10-cp311-cp311-manylinux_2_17_x86_64.manylinux2014_x86_64.whl.metadata (4.9 kB)\n",
            "Downloading psycopg2_binary-2.9.10-cp311-cp311-manylinux_2_17_x86_64.manylinux2014_x86_64.whl (3.0 MB)\n",
            "\u001b[2K   \u001b[90m━━━━━━━━━━━━━━━━━━━━━━━━━━━━━━━━━━━━━━━━\u001b[0m \u001b[32m3.0/3.0 MB\u001b[0m \u001b[31m36.6 MB/s\u001b[0m eta \u001b[36m0:00:00\u001b[0m\n",
            "\u001b[?25hInstalling collected packages: psycopg2-binary\n",
            "Successfully installed psycopg2-binary-2.9.10\n"
          ]
        }
      ],
      "source": [
        "!pip install psycopg2-binary"
      ]
    },
    {
      "cell_type": "code",
      "execution_count": 4,
      "metadata": {
        "colab": {
          "base_uri": "https://localhost:8080/"
        },
        "id": "Y43ZBBsPyAJP",
        "outputId": "99f953f2-c8bd-4849-fc40-72c745d9d9cd"
      },
      "outputs": [
        {
          "name": "stdout",
          "output_type": "stream",
          "text": [
            "Collecting boto3\n",
            "  Downloading boto3-1.36.5-py3-none-any.whl.metadata (6.6 kB)\n",
            "Collecting botocore<1.37.0,>=1.36.5 (from boto3)\n",
            "  Downloading botocore-1.36.5-py3-none-any.whl.metadata (5.7 kB)\n",
            "Collecting jmespath<2.0.0,>=0.7.1 (from boto3)\n",
            "  Downloading jmespath-1.0.1-py3-none-any.whl.metadata (7.6 kB)\n",
            "Collecting s3transfer<0.12.0,>=0.11.0 (from boto3)\n",
            "  Downloading s3transfer-0.11.2-py3-none-any.whl.metadata (1.7 kB)\n",
            "Requirement already satisfied: python-dateutil<3.0.0,>=2.1 in /usr/local/lib/python3.11/dist-packages (from botocore<1.37.0,>=1.36.5->boto3) (2.8.2)\n",
            "Requirement already satisfied: urllib3!=2.2.0,<3,>=1.25.4 in /usr/local/lib/python3.11/dist-packages (from botocore<1.37.0,>=1.36.5->boto3) (2.3.0)\n",
            "Requirement already satisfied: six>=1.5 in /usr/local/lib/python3.11/dist-packages (from python-dateutil<3.0.0,>=2.1->botocore<1.37.0,>=1.36.5->boto3) (1.17.0)\n",
            "Downloading boto3-1.36.5-py3-none-any.whl (139 kB)\n",
            "\u001b[2K   \u001b[90m━━━━━━━━━━━━━━━━━━━━━━━━━━━━━━━━━━━━━━━━\u001b[0m \u001b[32m139.2/139.2 kB\u001b[0m \u001b[31m4.8 MB/s\u001b[0m eta \u001b[36m0:00:00\u001b[0m\n",
            "\u001b[?25hDownloading botocore-1.36.5-py3-none-any.whl (13.3 MB)\n",
            "\u001b[2K   \u001b[90m━━━━━━━━━━━━━━━━━━━━━━━━━━━━━━━━━━━━━━━━\u001b[0m \u001b[32m13.3/13.3 MB\u001b[0m \u001b[31m61.0 MB/s\u001b[0m eta \u001b[36m0:00:00\u001b[0m\n",
            "\u001b[?25hDownloading jmespath-1.0.1-py3-none-any.whl (20 kB)\n",
            "Downloading s3transfer-0.11.2-py3-none-any.whl (84 kB)\n",
            "\u001b[2K   \u001b[90m━━━━━━━━━━━━━━━━━━━━━━━━━━━━━━━━━━━━━━━━\u001b[0m \u001b[32m84.2/84.2 kB\u001b[0m \u001b[31m6.7 MB/s\u001b[0m eta \u001b[36m0:00:00\u001b[0m\n",
            "\u001b[?25hInstalling collected packages: jmespath, botocore, s3transfer, boto3\n",
            "Successfully installed boto3-1.36.5 botocore-1.36.5 jmespath-1.0.1 s3transfer-0.11.2\n"
          ]
        }
      ],
      "source": [
        "!pip install boto3"
      ]
    },
    {
      "cell_type": "code",
      "execution_count": 5,
      "metadata": {
        "colab": {
          "base_uri": "https://localhost:8080/"
        },
        "id": "D3gudh_z5D9K",
        "outputId": "a01fb2ee-de78-46c8-e532-78d940232a20"
      },
      "outputs": [
        {
          "name": "stdout",
          "output_type": "stream",
          "text": [
            "Collecting sqlalchemy-redshift\n",
            "  Downloading sqlalchemy_redshift-0.8.14-py2.py3-none-any.whl.metadata (18 kB)\n",
            "Collecting SQLAlchemy<2.0.0,>=0.9.2 (from sqlalchemy-redshift)\n",
            "  Downloading sqlalchemy-1.4.54.tar.gz (8.5 MB)\n",
            "     ---------------------------------------- 0.0/8.5 MB ? eta -:--:--\n",
            "     -- ------------------------------------- 0.5/8.5 MB 3.5 MB/s eta 0:00:03\n",
            "     --- ------------------------------------ 0.8/8.5 MB 1.8 MB/s eta 0:00:05\n",
            "     -------- ------------------------------- 1.8/8.5 MB 3.1 MB/s eta 0:00:03\n",
            "     -------------- ------------------------- 3.1/8.5 MB 4.0 MB/s eta 0:00:02\n",
            "     --------------------- ------------------ 4.5/8.5 MB 4.6 MB/s eta 0:00:01\n",
            "     --------------------------- ------------ 5.8/8.5 MB 4.9 MB/s eta 0:00:01\n",
            "     ---------------------------------- ----- 7.3/8.5 MB 5.3 MB/s eta 0:00:01\n",
            "     ---------------------------------------- 8.5/8.5 MB 5.4 MB/s eta 0:00:00\n",
            "  Installing build dependencies: started\n",
            "  Installing build dependencies: finished with status 'done'\n",
            "  Getting requirements to build wheel: started\n",
            "  Getting requirements to build wheel: finished with status 'done'\n",
            "  Preparing metadata (pyproject.toml): started\n",
            "  Preparing metadata (pyproject.toml): finished with status 'done'\n",
            "Requirement already satisfied: packaging in c:\\users\\sauss\\appdata\\roaming\\python\\python313\\site-packages (from sqlalchemy-redshift) (24.2)\n",
            "Requirement already satisfied: greenlet!=0.4.17 in c:\\users\\sauss\\appdata\\local\\programs\\python\\python313\\lib\\site-packages (from SQLAlchemy<2.0.0,>=0.9.2->sqlalchemy-redshift) (3.1.1)\n",
            "Downloading sqlalchemy_redshift-0.8.14-py2.py3-none-any.whl (38 kB)\n",
            "Building wheels for collected packages: SQLAlchemy\n",
            "  Building wheel for SQLAlchemy (pyproject.toml): started\n",
            "  Building wheel for SQLAlchemy (pyproject.toml): finished with status 'done'\n",
            "  Created wheel for SQLAlchemy: filename=SQLAlchemy-1.4.54-cp313-cp313-win_amd64.whl size=1557688 sha256=08a3c7b1b117cb41e08e83cf3d45b78c5a054fa9aba384208be18e56d0ca4c6c\n",
            "  Stored in directory: c:\\users\\sauss\\appdata\\local\\pip\\cache\\wheels\\66\\d4\\be\\4c07d30f4e85a3d3789094f906c6050425b0183674c46548d0\n",
            "Successfully built SQLAlchemy\n",
            "Installing collected packages: SQLAlchemy, sqlalchemy-redshift\n",
            "  Attempting uninstall: SQLAlchemy\n",
            "    Found existing installation: SQLAlchemy 2.0.37\n",
            "    Uninstalling SQLAlchemy-2.0.37:\n",
            "      Successfully uninstalled SQLAlchemy-2.0.37\n",
            "Successfully installed SQLAlchemy-1.4.54 sqlalchemy-redshift-0.8.14\n"
          ]
        },
        {
          "name": "stderr",
          "output_type": "stream",
          "text": [
            "  WARNING: Failed to remove contents in a temporary directory 'C:\\Users\\sauss\\AppData\\Local\\Programs\\Python\\Python313\\Lib\\site-packages\\~qlalchemy'.\n",
            "  You can safely remove it manually.\n"
          ]
        }
      ],
      "source": [
        "!pip install sqlalchemy-redshift"
      ]
    },
    {
      "cell_type": "code",
      "execution_count": 6,
      "metadata": {
        "colab": {
          "base_uri": "https://localhost:8080/"
        },
        "id": "ZUdL0DSu60xH",
        "outputId": "5682b3ce-a088-4a90-c1d4-2555cf1e3c1c"
      },
      "outputs": [
        {
          "name": "stdout",
          "output_type": "stream",
          "text": [
            "Collecting ipython-sql\n",
            "  Downloading ipython_sql-0.5.0-py3-none-any.whl.metadata (17 kB)\n",
            "Collecting prettytable (from ipython-sql)\n",
            "  Downloading prettytable-3.13.0-py3-none-any.whl.metadata (30 kB)\n",
            "Requirement already satisfied: ipython in c:\\users\\sauss\\appdata\\roaming\\python\\python313\\site-packages (from ipython-sql) (8.31.0)\n",
            "Collecting sqlalchemy>=2.0 (from ipython-sql)\n",
            "  Using cached SQLAlchemy-2.0.37-cp313-cp313-win_amd64.whl.metadata (9.9 kB)\n",
            "Requirement already satisfied: sqlparse in c:\\users\\sauss\\appdata\\local\\programs\\python\\python313\\lib\\site-packages (from ipython-sql) (0.4.4)\n",
            "Requirement already satisfied: six in c:\\users\\sauss\\appdata\\roaming\\python\\python313\\site-packages (from ipython-sql) (1.17.0)\n",
            "Collecting ipython-genutils (from ipython-sql)\n",
            "  Downloading ipython_genutils-0.2.0-py2.py3-none-any.whl.metadata (755 bytes)\n",
            "Requirement already satisfied: greenlet!=0.4.17 in c:\\users\\sauss\\appdata\\local\\programs\\python\\python313\\lib\\site-packages (from sqlalchemy>=2.0->ipython-sql) (3.1.1)\n",
            "Requirement already satisfied: typing-extensions>=4.6.0 in c:\\users\\sauss\\appdata\\local\\programs\\python\\python313\\lib\\site-packages (from sqlalchemy>=2.0->ipython-sql) (4.12.2)\n",
            "Requirement already satisfied: colorama in c:\\users\\sauss\\appdata\\roaming\\python\\python313\\site-packages (from ipython->ipython-sql) (0.4.6)\n",
            "Requirement already satisfied: decorator in c:\\users\\sauss\\appdata\\roaming\\python\\python313\\site-packages (from ipython->ipython-sql) (5.1.1)\n",
            "Requirement already satisfied: jedi>=0.16 in c:\\users\\sauss\\appdata\\roaming\\python\\python313\\site-packages (from ipython->ipython-sql) (0.19.2)\n",
            "Requirement already satisfied: matplotlib-inline in c:\\users\\sauss\\appdata\\roaming\\python\\python313\\site-packages (from ipython->ipython-sql) (0.1.7)\n",
            "Requirement already satisfied: prompt_toolkit<3.1.0,>=3.0.41 in c:\\users\\sauss\\appdata\\roaming\\python\\python313\\site-packages (from ipython->ipython-sql) (3.0.48)\n",
            "Requirement already satisfied: pygments>=2.4.0 in c:\\users\\sauss\\appdata\\roaming\\python\\python313\\site-packages (from ipython->ipython-sql) (2.19.1)\n",
            "Requirement already satisfied: stack_data in c:\\users\\sauss\\appdata\\roaming\\python\\python313\\site-packages (from ipython->ipython-sql) (0.6.3)\n",
            "Requirement already satisfied: traitlets>=5.13.0 in c:\\users\\sauss\\appdata\\roaming\\python\\python313\\site-packages (from ipython->ipython-sql) (5.14.3)\n",
            "Requirement already satisfied: wcwidth in c:\\users\\sauss\\appdata\\roaming\\python\\python313\\site-packages (from prettytable->ipython-sql) (0.2.13)\n",
            "Requirement already satisfied: parso<0.9.0,>=0.8.4 in c:\\users\\sauss\\appdata\\roaming\\python\\python313\\site-packages (from jedi>=0.16->ipython->ipython-sql) (0.8.4)\n",
            "Requirement already satisfied: executing>=1.2.0 in c:\\users\\sauss\\appdata\\roaming\\python\\python313\\site-packages (from stack_data->ipython->ipython-sql) (2.1.0)\n",
            "Requirement already satisfied: asttokens>=2.1.0 in c:\\users\\sauss\\appdata\\roaming\\python\\python313\\site-packages (from stack_data->ipython->ipython-sql) (3.0.0)\n",
            "Requirement already satisfied: pure-eval in c:\\users\\sauss\\appdata\\roaming\\python\\python313\\site-packages (from stack_data->ipython->ipython-sql) (0.2.3)\n",
            "Downloading ipython_sql-0.5.0-py3-none-any.whl (20 kB)\n",
            "Using cached SQLAlchemy-2.0.37-cp313-cp313-win_amd64.whl (2.1 MB)\n",
            "Downloading ipython_genutils-0.2.0-py2.py3-none-any.whl (26 kB)\n",
            "Downloading prettytable-3.13.0-py3-none-any.whl (31 kB)\n",
            "Installing collected packages: ipython-genutils, sqlalchemy, prettytable, ipython-sql\n",
            "  Attempting uninstall: sqlalchemy\n",
            "    Found existing installation: SQLAlchemy 1.4.54\n",
            "    Uninstalling SQLAlchemy-1.4.54:\n",
            "      Successfully uninstalled SQLAlchemy-1.4.54\n",
            "Successfully installed ipython-genutils-0.2.0 ipython-sql-0.5.0 prettytable-3.13.0 sqlalchemy-2.0.37\n"
          ]
        },
        {
          "name": "stderr",
          "output_type": "stream",
          "text": [
            "ERROR: pip's dependency resolver does not currently take into account all the packages that are installed. This behaviour is the source of the following dependency conflicts.\n",
            "sqlalchemy-redshift 0.8.14 requires SQLAlchemy<2.0.0,>=0.9.2, but you have sqlalchemy 2.0.37 which is incompatible.\n"
          ]
        }
      ],
      "source": [
        "!pip install --upgrade ipython-sql"
      ]
    },
    {
      "cell_type": "code",
      "execution_count": 2,
      "metadata": {
        "colab": {
          "base_uri": "https://localhost:8080/"
        },
        "id": "D1XonI2Q7Brz",
        "outputId": "695bac9a-1bc3-4b5c-e38f-14e162707a3b"
      },
      "outputs": [
        {
          "name": "stdout",
          "output_type": "stream",
          "text": [
            "/bin/bash: line 1: 2.0.0: No such file or directory\n"
          ]
        }
      ],
      "source": [
        "!pip install sqlalchemy>=1.4.54,<2.0.0"
      ]
    },
    {
      "cell_type": "code",
      "execution_count": 3,
      "metadata": {
        "colab": {
          "base_uri": "https://localhost:8080/"
        },
        "id": "O_og6N0K7T3n",
        "outputId": "7520ab91-bd81-4038-c355-f87ffde21102"
      },
      "outputs": [
        {
          "name": "stdout",
          "output_type": "stream",
          "text": [
            "Name: SQLAlchemy\n",
            "Version: 1.4.54\n",
            "Summary: Database Abstraction Library\n",
            "Home-page: https://www.sqlalchemy.org\n",
            "Author: Mike Bayer\n",
            "Author-email: mike_mp@zzzcomputing.com\n",
            "License: MIT\n",
            "Location: /usr/local/lib/python3.11/dist-packages\n",
            "Requires: greenlet\n",
            "Required-by: bigframes, ipython-sql, langchain, sqlalchemy-redshift\n"
          ]
        }
      ],
      "source": [
        "!pip show sqlalchemy"
      ]
    },
    {
      "cell_type": "code",
      "execution_count": 4,
      "metadata": {
        "colab": {
          "base_uri": "https://localhost:8080/"
        },
        "id": "TjjHTU8H6Izs",
        "outputId": "13284397-32df-46f1-8158-604281657e22"
      },
      "outputs": [
        {
          "name": "stdout",
          "output_type": "stream",
          "text": [
            "Requirement already satisfied: sqlalchemy-redshift in /usr/local/lib/python3.11/dist-packages (0.8.14)\n",
            "Requirement already satisfied: SQLAlchemy<2.0.0,>=0.9.2 in /usr/local/lib/python3.11/dist-packages (from sqlalchemy-redshift) (1.4.54)\n",
            "Requirement already satisfied: packaging in /usr/local/lib/python3.11/dist-packages (from sqlalchemy-redshift) (24.2)\n",
            "Requirement already satisfied: greenlet!=0.4.17 in /usr/local/lib/python3.11/dist-packages (from SQLAlchemy<2.0.0,>=0.9.2->sqlalchemy-redshift) (3.1.1)\n"
          ]
        }
      ],
      "source": [
        "!pip install --upgrade sqlalchemy-redshift"
      ]
    },
    {
      "cell_type": "code",
      "execution_count": 2,
      "metadata": {
        "colab": {
          "base_uri": "https://localhost:8080/"
        },
        "id": "kbkgFwSs5RZu",
        "outputId": "5eb15ad2-9ae2-474d-ca14-3e78c8122523"
      },
      "outputs": [
        {
          "name": "stdout",
          "output_type": "stream",
          "text": [
            "Requirement already satisfied: sqlalchemy in /usr/local/lib/python3.11/dist-packages (1.4.54)\n",
            "Collecting sqlalchemy\n",
            "  Using cached SQLAlchemy-2.0.37-cp311-cp311-manylinux_2_17_x86_64.manylinux2014_x86_64.whl.metadata (9.6 kB)\n",
            "Requirement already satisfied: greenlet!=0.4.17 in /usr/local/lib/python3.11/dist-packages (from sqlalchemy) (3.1.1)\n",
            "Requirement already satisfied: typing-extensions>=4.6.0 in /usr/local/lib/python3.11/dist-packages (from sqlalchemy) (4.12.2)\n",
            "Using cached SQLAlchemy-2.0.37-cp311-cp311-manylinux_2_17_x86_64.manylinux2014_x86_64.whl (3.2 MB)\n",
            "Installing collected packages: sqlalchemy\n",
            "  Attempting uninstall: sqlalchemy\n",
            "    Found existing installation: SQLAlchemy 1.4.54\n",
            "    Uninstalling SQLAlchemy-1.4.54:\n",
            "      Successfully uninstalled SQLAlchemy-1.4.54\n",
            "\u001b[31mERROR: pip's dependency resolver does not currently take into account all the packages that are installed. This behaviour is the source of the following dependency conflicts.\n",
            "sqlalchemy-redshift 0.8.14 requires SQLAlchemy<2.0.0,>=0.9.2, but you have sqlalchemy 2.0.37 which is incompatible.\u001b[0m\u001b[31m\n",
            "\u001b[0mSuccessfully installed sqlalchemy-2.0.37\n"
          ]
        }
      ],
      "source": [
        "!pip install --upgrade sqlalchemy"
      ]
    },
    {
      "cell_type": "code",
      "execution_count": 1,
      "metadata": {
        "colab": {
          "base_uri": "https://localhost:8080/"
        },
        "id": "ZP4R8C2t7eyh",
        "outputId": "46e09580-ac66-4723-fd5f-20e8091254e8"
      },
      "outputs": [
        {
          "name": "stdout",
          "output_type": "stream",
          "text": [
            "Collecting sqlalchemy\n",
            "  Using cached SQLAlchemy-2.0.37-cp311-cp311-manylinux_2_17_x86_64.manylinux2014_x86_64.whl.metadata (9.6 kB)\n",
            "Collecting sqlalchemy-redshift\n",
            "  Using cached sqlalchemy_redshift-0.8.14-py2.py3-none-any.whl.metadata (18 kB)\n",
            "Collecting greenlet!=0.4.17 (from sqlalchemy)\n",
            "  Using cached greenlet-3.1.1-cp311-cp311-manylinux_2_24_x86_64.manylinux_2_28_x86_64.whl.metadata (3.8 kB)\n",
            "Collecting typing-extensions>=4.6.0 (from sqlalchemy)\n",
            "  Using cached typing_extensions-4.12.2-py3-none-any.whl.metadata (3.0 kB)\n",
            "Collecting sqlalchemy\n",
            "  Using cached SQLAlchemy-1.4.54-cp311-cp311-manylinux_2_5_x86_64.manylinux1_x86_64.manylinux_2_17_x86_64.manylinux2014_x86_64.whl.metadata (10 kB)\n",
            "Collecting packaging (from sqlalchemy-redshift)\n",
            "  Using cached packaging-24.2-py3-none-any.whl.metadata (3.2 kB)\n",
            "Using cached sqlalchemy_redshift-0.8.14-py2.py3-none-any.whl (38 kB)\n",
            "Using cached SQLAlchemy-1.4.54-cp311-cp311-manylinux_2_5_x86_64.manylinux1_x86_64.manylinux_2_17_x86_64.manylinux2014_x86_64.whl (1.6 MB)\n",
            "Using cached greenlet-3.1.1-cp311-cp311-manylinux_2_24_x86_64.manylinux_2_28_x86_64.whl (602 kB)\n",
            "Using cached packaging-24.2-py3-none-any.whl (65 kB)\n",
            "Installing collected packages: packaging, greenlet, sqlalchemy, sqlalchemy-redshift\n",
            "  Attempting uninstall: packaging\n",
            "    Found existing installation: packaging 24.2\n",
            "    Uninstalling packaging-24.2:\n",
            "      Successfully uninstalled packaging-24.2\n",
            "  Attempting uninstall: greenlet\n",
            "    Found existing installation: greenlet 3.1.1\n",
            "    Uninstalling greenlet-3.1.1:\n",
            "      Successfully uninstalled greenlet-3.1.1\n",
            "  Attempting uninstall: sqlalchemy\n",
            "    Found existing installation: SQLAlchemy 1.4.54\n",
            "    Uninstalling SQLAlchemy-1.4.54:\n",
            "      Successfully uninstalled SQLAlchemy-1.4.54\n",
            "  Attempting uninstall: sqlalchemy-redshift\n",
            "    Found existing installation: sqlalchemy-redshift 0.8.14\n",
            "    Uninstalling sqlalchemy-redshift-0.8.14:\n",
            "      Successfully uninstalled sqlalchemy-redshift-0.8.14\n",
            "\u001b[31mERROR: pip's dependency resolver does not currently take into account all the packages that are installed. This behaviour is the source of the following dependency conflicts.\n",
            "ipython-sql 0.5.0 requires sqlalchemy>=2.0, but you have sqlalchemy 1.4.54 which is incompatible.\u001b[0m\u001b[31m\n",
            "\u001b[0mSuccessfully installed greenlet-3.1.1 packaging-24.2 sqlalchemy-1.4.54 sqlalchemy-redshift-0.8.14\n"
          ]
        }
      ],
      "source": [
        "!pip install --force-reinstall sqlalchemy sqlalchemy-redshift"
      ]
    },
    {
      "cell_type": "code",
      "execution_count": 5,
      "metadata": {
        "colab": {
          "base_uri": "https://localhost:8080/"
        },
        "id": "biFmQtjF8wqu",
        "outputId": "e1b84995-8143-4879-adb6-8962e430d3b8"
      },
      "outputs": [
        {
          "name": "stdout",
          "output_type": "stream",
          "text": [
            "\u001b[31mERROR: Could not find a version that satisfies the requirement sqlalchemy.dialects (from versions: none)\u001b[0m\u001b[31m\n",
            "\u001b[0m\u001b[31mERROR: No matching distribution found for sqlalchemy.dialects\u001b[0m\u001b[31m\n",
            "\u001b[0m"
          ]
        }
      ],
      "source": [
        "!pip install sqlalchemy.dialects"
      ]
    },
    {
      "cell_type": "code",
      "execution_count": 7,
      "metadata": {
        "colab": {
          "base_uri": "https://localhost:8080/",
          "height": 346
        },
        "id": "z4CIJF2o5joa",
        "outputId": "5271bcf5-f7eb-4cf8-eb5d-ba299e45590b"
      },
      "outputs": [
        {
          "ename": "ImportError",
          "evalue": "cannot import name 'redshift' from 'sqlalchemy.dialects' (/usr/local/lib/python3.11/dist-packages/sqlalchemy/dialects/__init__.py)",
          "output_type": "error",
          "traceback": [
            "\u001b[0;31m---------------------------------------------------------------------------\u001b[0m",
            "\u001b[0;31mImportError\u001b[0m                               Traceback (most recent call last)",
            "\u001b[0;32m<ipython-input-7-1fb52890fde8>\u001b[0m in \u001b[0;36m<cell line: 0>\u001b[0;34m()\u001b[0m\n\u001b[0;32m----> 1\u001b[0;31m \u001b[0;32mfrom\u001b[0m \u001b[0msqlalchemy\u001b[0m\u001b[0;34m.\u001b[0m\u001b[0mdialects\u001b[0m \u001b[0;32mimport\u001b[0m \u001b[0mredshift\u001b[0m\u001b[0;34m\u001b[0m\u001b[0;34m\u001b[0m\u001b[0m\n\u001b[0m\u001b[1;32m      2\u001b[0m \u001b[0mprint\u001b[0m\u001b[0;34m(\u001b[0m\u001b[0mredshift\u001b[0m\u001b[0;34m.\u001b[0m\u001b[0m__file__\u001b[0m\u001b[0;34m)\u001b[0m\u001b[0;34m\u001b[0m\u001b[0;34m\u001b[0m\u001b[0m\n",
            "\u001b[0;31mImportError\u001b[0m: cannot import name 'redshift' from 'sqlalchemy.dialects' (/usr/local/lib/python3.11/dist-packages/sqlalchemy/dialects/__init__.py)",
            "",
            "\u001b[0;31m---------------------------------------------------------------------------\u001b[0;32m\nNOTE: If your import is failing due to a missing package, you can\nmanually install dependencies using either !pip or !apt.\n\nTo view examples of installing some common dependencies, click the\n\"Open Examples\" button below.\n\u001b[0;31m---------------------------------------------------------------------------\u001b[0m\n"
          ]
        }
      ],
      "source": [
        "from sqlalchemy.dialects import redshift\n",
        "print(redshift.__file__)"
      ]
    },
    {
      "cell_type": "code",
      "execution_count": 2,
      "metadata": {
        "colab": {
          "base_uri": "https://localhost:8080/"
        },
        "id": "915t3Deo-OQm",
        "outputId": "ec72e5b1-239a-4403-b835-adee39bb69e4"
      },
      "outputs": [
        {
          "name": "stdout",
          "output_type": "stream",
          "text": [
            "Collecting redshift_connector\n",
            "  Using cached redshift_connector-2.1.5-py3-none-any.whl.metadata (69 kB)\n",
            "Collecting scramp<1.5.0,>=1.2.0 (from redshift_connector)\n",
            "  Using cached scramp-1.4.5-py3-none-any.whl.metadata (19 kB)\n",
            "Requirement already satisfied: pytz>=2020.1 in c:\\users\\sauss\\appdata\\local\\programs\\python\\python313\\lib\\site-packages (from redshift_connector) (2024.2)\n",
            "Requirement already satisfied: beautifulsoup4<5.0.0,>=4.7.0 in c:\\users\\sauss\\appdata\\local\\programs\\python\\python313\\lib\\site-packages (from redshift_connector) (4.12.3)\n",
            "Requirement already satisfied: boto3<2.0.0,>=1.9.201 in c:\\users\\sauss\\appdata\\local\\programs\\python\\python313\\lib\\site-packages (from redshift_connector) (1.36.3)\n",
            "Requirement already satisfied: requests<3.0.0,>=2.23.0 in c:\\users\\sauss\\appdata\\local\\programs\\python\\python313\\lib\\site-packages (from redshift_connector) (2.32.3)\n",
            "Requirement already satisfied: lxml>=4.6.5 in c:\\users\\sauss\\appdata\\local\\programs\\python\\python313\\lib\\site-packages (from redshift_connector) (5.3.0)\n",
            "Requirement already satisfied: botocore<2.0.0,>=1.12.201 in c:\\users\\sauss\\appdata\\local\\programs\\python\\python313\\lib\\site-packages (from redshift_connector) (1.36.3)\n",
            "Requirement already satisfied: packaging in c:\\users\\sauss\\appdata\\roaming\\python\\python313\\site-packages (from redshift_connector) (24.2)\n",
            "Requirement already satisfied: setuptools in c:\\users\\sauss\\appdata\\local\\programs\\python\\python313\\lib\\site-packages (from redshift_connector) (75.8.0)\n",
            "Requirement already satisfied: soupsieve>1.2 in c:\\users\\sauss\\appdata\\local\\programs\\python\\python313\\lib\\site-packages (from beautifulsoup4<5.0.0,>=4.7.0->redshift_connector) (2.6)\n",
            "Requirement already satisfied: jmespath<2.0.0,>=0.7.1 in c:\\users\\sauss\\appdata\\local\\programs\\python\\python313\\lib\\site-packages (from boto3<2.0.0,>=1.9.201->redshift_connector) (1.0.1)\n",
            "Requirement already satisfied: s3transfer<0.12.0,>=0.11.0 in c:\\users\\sauss\\appdata\\local\\programs\\python\\python313\\lib\\site-packages (from boto3<2.0.0,>=1.9.201->redshift_connector) (0.11.1)\n",
            "Requirement already satisfied: python-dateutil<3.0.0,>=2.1 in c:\\users\\sauss\\appdata\\roaming\\python\\python313\\site-packages (from botocore<2.0.0,>=1.12.201->redshift_connector) (2.9.0.post0)\n",
            "Requirement already satisfied: urllib3!=2.2.0,<3,>=1.25.4 in c:\\users\\sauss\\appdata\\local\\programs\\python\\python313\\lib\\site-packages (from botocore<2.0.0,>=1.12.201->redshift_connector) (1.26.20)\n",
            "Requirement already satisfied: charset-normalizer<4,>=2 in c:\\users\\sauss\\appdata\\local\\programs\\python\\python313\\lib\\site-packages (from requests<3.0.0,>=2.23.0->redshift_connector) (3.4.1)\n",
            "Requirement already satisfied: idna<4,>=2.5 in c:\\users\\sauss\\appdata\\local\\programs\\python\\python313\\lib\\site-packages (from requests<3.0.0,>=2.23.0->redshift_connector) (3.10)\n",
            "Requirement already satisfied: certifi>=2017.4.17 in c:\\users\\sauss\\appdata\\local\\programs\\python\\python313\\lib\\site-packages (from requests<3.0.0,>=2.23.0->redshift_connector) (2024.12.14)\n",
            "Collecting asn1crypto>=1.5.1 (from scramp<1.5.0,>=1.2.0->redshift_connector)\n",
            "  Using cached asn1crypto-1.5.1-py2.py3-none-any.whl.metadata (13 kB)\n",
            "Requirement already satisfied: six>=1.5 in c:\\users\\sauss\\appdata\\roaming\\python\\python313\\site-packages (from python-dateutil<3.0.0,>=2.1->botocore<2.0.0,>=1.12.201->redshift_connector) (1.17.0)\n",
            "Using cached redshift_connector-2.1.5-py3-none-any.whl (138 kB)\n",
            "Using cached scramp-1.4.5-py3-none-any.whl (12 kB)\n",
            "Using cached asn1crypto-1.5.1-py2.py3-none-any.whl (105 kB)\n",
            "Installing collected packages: asn1crypto, scramp, redshift_connector\n",
            "Successfully installed asn1crypto-1.5.1 redshift_connector-2.1.5 scramp-1.4.5\n"
          ]
        }
      ],
      "source": [
        "!pip install redshift_connector"
      ]
    },
    {
      "cell_type": "code",
      "execution_count": 15,
      "metadata": {
        "colab": {
          "base_uri": "https://localhost:8080/"
        },
        "id": "jcqPScgl4Djy",
        "outputId": "316a4df4-007a-4d96-81bd-ec7b3f29b2a6"
      },
      "outputs": [
        {
          "name": "stdout",
          "output_type": "stream",
          "text": [
            "Name: psycopg2-binary\n",
            "Version: 2.9.10\n",
            "Summary: psycopg2 - Python-PostgreSQL Database Adapter\n",
            "Home-page: https://psycopg.org/\n",
            "Author: Federico Di Gregorio\n",
            "Author-email: fog@initd.org\n",
            "License: LGPL with exceptions\n",
            "Location: /usr/local/lib/python3.11/dist-packages\n",
            "Requires: \n",
            "Required-by: \n"
          ]
        }
      ],
      "source": [
        "!pip show psycopg2-binary"
      ]
    },
    {
      "cell_type": "code",
      "execution_count": 33,
      "metadata": {
        "id": "5_unBOmLyAJP"
      },
      "outputs": [],
      "source": [
        "import pandas as pd\n",
        "import redshift_connector\n",
        "import psycopg2\n",
        "import os\n",
        "import json\n",
        "import boto3\n",
        "import matplotlib.pyplot as plt\n",
        "import psycopg2.extras\n",
        "import boto3\n",
        "import json\n",
        "import pandas as pd\n",
        "import os\n",
        "from sqlalchemy import create_engine, text\n",
        "from sqlalchemy.exc import SQLAlchemyError\n",
        "from botocore.exceptions import ClientError\n",
        "import sqlalchemy\n",
        "from sqlalchemy import create_engine\n",
        "from sqlalchemy import join\n",
        "from sqlalchemy.sql import select\n",
        "from sqlalchemy import create_engine, MetaData, Table, Column, Integer, String, ForeignKey, Float, Date, insert\n",
        "from datetime import datetime\n",
        "import os\n",
        "import boto3\n",
        "import json\n",
        "from sqlalchemy import create_engine, text"
      ]
    },
    {
      "cell_type": "markdown",
      "metadata": {
        "id": "Rew8tHM-yAJP"
      },
      "source": [
        "# **Connexion à Redshift**"
      ]
    },
    {
      "cell_type": "code",
      "execution_count": 17,
      "metadata": {},
      "outputs": [
        {
          "name": "stderr",
          "output_type": "stream",
          "text": [
            "C:\\Users\\sauss\\AppData\\Local\\Temp\\ipykernel_116696\\681144309.py:32: SADeprecationWarning: The dbapi() classmethod on dialect classes has been renamed to import_dbapi().  Implement an import_dbapi() classmethod directly on class <class 'sqlalchemy_redshift.dialect.RedshiftDialect_psycopg2'> to remove this warning; the old .dbapi() classmethod may be maintained for backwards compatibility.\n",
            "  engine = create_engine(connection_string)\n"
          ]
        },
        {
          "name": "stdout",
          "output_type": "stream",
          "text": [
            "('Brooklyn', 684)\n",
            "('Philadelphia', 693)\n"
          ]
        }
      ],
      "source": [
        "# Récupération des clés d'accès AWS depuis les variables d'environnement\n",
        "aws_access_key_id = os.environ.get('AWS_ACCESS_KEY_ID')\n",
        "aws_secret_access_key = os.environ.get('AWS_SECRET_ACCESS_KEY')\n",
        "region_name = 'eu-west-3'  # Remplacez par votre région\n",
        "\n",
        "# Récupération des informations de connexion à Redshift depuis Secrets Manager\n",
        "session = boto3.session.Session(\n",
        "    aws_access_key_id=aws_access_key_id,\n",
        "    aws_secret_access_key=aws_secret_access_key,\n",
        "    region_name=region_name\n",
        ")\n",
        "client = session.client(service_name='secretsmanager')\n",
        "get_secret_value_response = client.get_secret_value(SecretId=\"arn:aws:secretsmanager:eu-west-3:307946679796:secret:pika/credentials-u5sw6P\")\n",
        "secret = get_secret_value_response['SecretString']\n",
        "secret_dict = json.loads(secret)\n",
        "\n",
        "# Extraction des informations de connexion\n",
        "username = secret_dict['username']\n",
        "password = secret_dict['password']\n",
        "host = secret_dict['host']\n",
        "port = secret_dict['port']\n",
        "\n",
        "# Création de la chaîne de connexion\n",
        "connection_string = f'redshift+psycopg2://{username}:{password}@{host}:{port}/dev'\n",
        "\n",
        "# Création de l'engine SQLAlchemy\n",
        "engine = create_engine(connection_string)\n",
        "\n"
      ]
    },
    {
      "cell_type": "markdown",
      "metadata": {},
      "source": [
        "# **Récupération des KPI's**"
      ]
    },
    {
      "cell_type": "code",
      "execution_count": 25,
      "metadata": {},
      "outputs": [],
      "source": [
        "avg_order_amount_by_store= \"\"\"SELECT st.stores_name, sum(fct.amount) / count(fct.order_id) as average_sales\n",
        "FROM \"dev\".\"public\".\"dim_stores\" as st\n",
        "JOIN  \"dev\".\"public\".\"fact_orders_items\"  as fct on fct.store_id = st.stores_id\n",
        "GROUP BY st.stores_name\"\"\"\n",
        "\n",
        "# Exécution de la requête\n",
        "with engine.connect() as connection:\n",
        "    result = connection.execute(text(avg_order_amount_by_store))\n",
        "    results = result.fetchall()\n",
        "\n",
        "dataset_kpi_avg_order_by_store = pd.DataFrame(results)"
      ]
    },
    {
      "cell_type": "code",
      "execution_count": 26,
      "metadata": {},
      "outputs": [],
      "source": [
        "revenue_by_customer_class = \"\"\"\n",
        "WITH CustomerTotals AS (\n",
        "    SELECT \n",
        "        dc.customer_name, \n",
        "        SUM(fct.amount) as total_ordered\n",
        "    FROM \n",
        "        \"dev\".\"public\".\"dim_customers\" as dc\n",
        "    JOIN \n",
        "         \"dev\".\"public\".\"fact_orders_items\" as fct on fct.customer = dc.customer_id\n",
        "    GROUP BY \n",
        "        dc.customer_name\n",
        ")\n",
        "\n",
        "SELECT \n",
        "    sum(ct.total_ordered) as total,\n",
        "    CASE \n",
        "        WHEN ct.total_ordered BETWEEN 0 AND 99 THEN 'bronze'\n",
        "        WHEN ct.total_ordered BETWEEN 100 AND 199 THEN 'silver'\n",
        "        ELSE 'gold'\n",
        "    END AS customer_status\n",
        "FROM \n",
        "    CustomerTotals ct\n",
        "    GROUP BY \n",
        "    customer_status\"\"\"\n",
        "\n",
        "# Exécution de la requête\n",
        "with engine.connect() as connection:\n",
        "    result = connection.execute(text(revenue_by_customer_class))\n",
        "    results = result.fetchall()\n",
        "\n",
        "dataset_kpi_revenue_by_class = pd.DataFrame(results)"
      ]
    },
    {
      "cell_type": "code",
      "execution_count": 27,
      "metadata": {},
      "outputs": [],
      "source": [
        "sales_distribution_by_product_category = \"\"\"\n",
        "SELECT pdt.type, sum(fct.amount)  as sales\n",
        "FROM \"dev\".\"public\".\"dim_products_supplies\" as pdt\n",
        "JOIN  \"dev\".\"public\".\"fact_orders_items\" as fct on fct.sku_id = pdt.products_id\n",
        "GROUP BY pdt.type\"\"\"\n",
        "\n",
        "# Exécution de la requête\n",
        "with engine.connect() as connection:\n",
        "    result = connection.execute(text(sales_distribution_by_product_category))\n",
        "    results = result.fetchall()\n",
        "\n",
        "dataset_kpi_distribution_by_product = pd.DataFrame(results)"
      ]
    },
    {
      "cell_type": "code",
      "execution_count": 28,
      "metadata": {},
      "outputs": [],
      "source": [
        "tax_vs_total_sales = \"\"\"\n",
        "SELECT st.stores_name, AVG((fct.amount_charged - fct.amount) / fct.amount) as average_rate\n",
        "FROM  \"dev\".\"public\".\"fact_orders_items\" as fct \n",
        "JOIN   \"dev\".\"public\".\"dim_stores\" as st on st.stores_id = fct.store_id\n",
        "group by st.stores_name \"\"\"\n",
        "\n",
        "# Exécution de la requête\n",
        "with engine.connect() as connection:\n",
        "    result = connection.execute(text(tax_vs_total_sales))\n",
        "    results = result.fetchall()\n",
        "\n",
        "dataset_kpi_tax_sales = pd.DataFrame(results)"
      ]
    },
    {
      "cell_type": "code",
      "execution_count": 29,
      "metadata": {},
      "outputs": [],
      "source": [
        "total_sales_per_customer = \"\"\"\n",
        "SELECT dc.customer_name, sum(fct.amount) as total_ordered\n",
        "FROM \"dev\".\"public\".\"dim_customers\"as dc\n",
        "JOIN  \"dev\".\"public\".\"fact_orders_items\" as fct on fct.customer = dc.customer_id\n",
        "GROUP BY dc.customer_name \"\"\"\n",
        "\n",
        "# Exécution de la requête\n",
        "with engine.connect() as connection:\n",
        "    result = connection.execute(text(total_sales_per_customer))\n",
        "    results = result.fetchall()\n",
        "\n",
        "dataset_kpi_customer_sales = pd.DataFrame(results)"
      ]
    },
    {
      "cell_type": "markdown",
      "metadata": {},
      "source": [
        "# **Analyse**"
      ]
    },
    {
      "cell_type": "markdown",
      "metadata": {},
      "source": [
        "## KPI 1"
      ]
    },
    {
      "cell_type": "code",
      "execution_count": 35,
      "metadata": {},
      "outputs": [
        {
          "data": {
            "text/html": [
              "<div>\n",
              "<style scoped>\n",
              "    .dataframe tbody tr th:only-of-type {\n",
              "        vertical-align: middle;\n",
              "    }\n",
              "\n",
              "    .dataframe tbody tr th {\n",
              "        vertical-align: top;\n",
              "    }\n",
              "\n",
              "    .dataframe thead th {\n",
              "        text-align: right;\n",
              "    }\n",
              "</style>\n",
              "<table border=\"1\" class=\"dataframe\">\n",
              "  <thead>\n",
              "    <tr style=\"text-align: right;\">\n",
              "      <th></th>\n",
              "      <th>stores_name</th>\n",
              "      <th>average_sales</th>\n",
              "    </tr>\n",
              "  </thead>\n",
              "  <tbody>\n",
              "    <tr>\n",
              "      <th>0</th>\n",
              "      <td>Brooklyn</td>\n",
              "      <td>684</td>\n",
              "    </tr>\n",
              "    <tr>\n",
              "      <th>1</th>\n",
              "      <td>Philadelphia</td>\n",
              "      <td>693</td>\n",
              "    </tr>\n",
              "  </tbody>\n",
              "</table>\n",
              "</div>"
            ],
            "text/plain": [
              "    stores_name  average_sales\n",
              "0      Brooklyn            684\n",
              "1  Philadelphia            693"
            ]
          },
          "execution_count": 35,
          "metadata": {},
          "output_type": "execute_result"
        }
      ],
      "source": [
        "dataset_kpi_avg_order_by_store"
      ]
    },
    {
      "cell_type": "code",
      "execution_count": 40,
      "metadata": {},
      "outputs": [
        {
          "data": {
            "image/png": "[encoded data removed]",
            "text/plain": [
              "<Figure size 640x480 with 1 Axes>"
            ]
          },
          "metadata": {},
          "output_type": "display_data"
        }
      ],
      "source": [
        "# Création du graphique en barres\n",
        "ax = dataset_kpi_avg_order_by_store.plot(kind='bar', x='stores_name', y='average_sales')\n",
        "\n",
        "for i in range(len(dataset_kpi_avg_order_by_store)):\n",
        "    ax.text(i, dataset_kpi_avg_order_by_store['average_sales'][i], dataset_kpi_avg_order_by_store['average_sales'][i], ha='center', va='bottom', color = \"darkblue\", fontweight = 'bold')\n",
        "\n",
        "\n",
        "# Ajout des titres aux axes\n",
        "plt.xlabel('Magasins', size = 10, c = '#5D615B', fontweight = 'bold')\n",
        "plt.ylabel('Ventes moyennes', size = 10, c = '#5D615B', fontweight = 'bold')\n",
        "plt.title('Ventes moyennes par magasin', color = \"darkblue\", fontweight = 'bold', size = 16)\n",
        "\n",
        "# Affichage du graphique\n",
        "plt.show()"
      ]
    },
    {
      "cell_type": "markdown",
      "metadata": {},
      "source": [
        "## KPI 2"
      ]
    },
    {
      "cell_type": "code",
      "execution_count": 42,
      "metadata": {},
      "outputs": [
        {
          "data": {
            "text/html": [
              "<div>\n",
              "<style scoped>\n",
              "    .dataframe tbody tr th:only-of-type {\n",
              "        vertical-align: middle;\n",
              "    }\n",
              "\n",
              "    .dataframe tbody tr th {\n",
              "        vertical-align: top;\n",
              "    }\n",
              "\n",
              "    .dataframe thead th {\n",
              "        text-align: right;\n",
              "    }\n",
              "</style>\n",
              "<table border=\"1\" class=\"dataframe\">\n",
              "  <thead>\n",
              "    <tr style=\"text-align: right;\">\n",
              "      <th></th>\n",
              "      <th>total</th>\n",
              "      <th>customer_status</th>\n",
              "    </tr>\n",
              "  </thead>\n",
              "  <tbody>\n",
              "    <tr>\n",
              "      <th>0</th>\n",
              "      <td>59679200</td>\n",
              "      <td>gold</td>\n",
              "    </tr>\n",
              "  </tbody>\n",
              "</table>\n",
              "</div>"
            ],
            "text/plain": [
              "      total customer_status\n",
              "0  59679200            gold"
            ]
          },
          "execution_count": 42,
          "metadata": {},
          "output_type": "execute_result"
        }
      ],
      "source": [
        "dataset_kpi_revenue_by_class"
      ]
    },
    {
      "cell_type": "code",
      "execution_count": 46,
      "metadata": {},
      "outputs": [
        {
          "data": {
            "image/png": "[encoded data removed]",
            "text/plain": [
              "<Figure size 640x480 with 1 Axes>"
            ]
          },
          "metadata": {},
          "output_type": "display_data"
        }
      ],
      "source": [
        "# Création du graphique en barres\n",
        "ax = dataset_kpi_revenue_by_class.plot(kind='bar', x='customer_status', y='total')\n",
        "\n",
        "for i in range(len(dataset_kpi_revenue_by_class)):\n",
        "    ax.text(i, dataset_kpi_revenue_by_class['total'][i], dataset_kpi_revenue_by_class['total'][i], ha='center', va='bottom', color = \"darkblue\", fontweight = 'bold')\n",
        "\n",
        "\n",
        "# Ajout des titres aux axes\n",
        "plt.xlabel('Statut', size = 10, c = '#5D615B', fontweight = 'bold')\n",
        "plt.ylabel('Ventes Totales', size = 10, c = '#5D615B', fontweight = 'bold')\n",
        "plt.title('Ventes par statut', color = \"darkblue\", fontweight = 'bold', size = 16)\n",
        "\n",
        "# Affichage du graphique\n",
        "plt.show()"
      ]
    },
    {
      "cell_type": "markdown",
      "metadata": {},
      "source": [
        "## KPI 3"
      ]
    },
    {
      "cell_type": "code",
      "execution_count": 45,
      "metadata": {},
      "outputs": [
        {
          "data": {
            "text/html": [
              "<div>\n",
              "<style scoped>\n",
              "    .dataframe tbody tr th:only-of-type {\n",
              "        vertical-align: middle;\n",
              "    }\n",
              "\n",
              "    .dataframe tbody tr th {\n",
              "        vertical-align: top;\n",
              "    }\n",
              "\n",
              "    .dataframe thead th {\n",
              "        text-align: right;\n",
              "    }\n",
              "</style>\n",
              "<table border=\"1\" class=\"dataframe\">\n",
              "  <thead>\n",
              "    <tr style=\"text-align: right;\">\n",
              "      <th></th>\n",
              "      <th>type</th>\n",
              "      <th>sales</th>\n",
              "    </tr>\n",
              "  </thead>\n",
              "  <tbody>\n",
              "    <tr>\n",
              "      <th>0</th>\n",
              "      <td>beverage</td>\n",
              "      <td>190127200</td>\n",
              "    </tr>\n",
              "    <tr>\n",
              "      <th>1</th>\n",
              "      <td>jaffle</td>\n",
              "      <td>170178300</td>\n",
              "    </tr>\n",
              "  </tbody>\n",
              "</table>\n",
              "</div>"
            ],
            "text/plain": [
              "       type      sales\n",
              "0  beverage  190127200\n",
              "1    jaffle  170178300"
            ]
          },
          "execution_count": 45,
          "metadata": {},
          "output_type": "execute_result"
        }
      ],
      "source": [
        "dataset_kpi_distribution_by_product"
      ]
    },
    {
      "cell_type": "code",
      "execution_count": 48,
      "metadata": {},
      "outputs": [
        {
          "data": {
            "image/png": "[encoded data removed]",
            "text/plain": [
              "<Figure size 640x480 with 1 Axes>"
            ]
          },
          "metadata": {},
          "output_type": "display_data"
        }
      ],
      "source": [
        "# Création du graphique en barres\n",
        "ax = dataset_kpi_distribution_by_product.plot(kind='bar', x='type', y='sales')\n",
        "\n",
        "for i in range(len(dataset_kpi_distribution_by_product)):\n",
        "    ax.text(i, dataset_kpi_distribution_by_product['sales'][i], dataset_kpi_distribution_by_product['sales'][i], ha='center', va='bottom', color = \"darkblue\", fontweight = 'bold')\n",
        "\n",
        "\n",
        "# Ajout des titres aux axes\n",
        "plt.xlabel('Type', size = 10, c = '#5D615B', fontweight = 'bold')\n",
        "plt.ylabel('Ventes Totales', size = 10, c = '#5D615B', fontweight = 'bold')\n",
        "plt.title('Ventes Totales par Catégorie', color = \"darkblue\", fontweight = 'bold', size = 16)\n",
        "\n",
        "# Affichage du graphique\n",
        "plt.show()"
      ]
    },
    {
      "cell_type": "markdown",
      "metadata": {},
      "source": [
        "## KPI 5"
      ]
    },
    {
      "cell_type": "code",
      "execution_count": 49,
      "metadata": {},
      "outputs": [
        {
          "data": {
            "text/html": [
              "<div>\n",
              "<style scoped>\n",
              "    .dataframe tbody tr th:only-of-type {\n",
              "        vertical-align: middle;\n",
              "    }\n",
              "\n",
              "    .dataframe tbody tr th {\n",
              "        vertical-align: top;\n",
              "    }\n",
              "\n",
              "    .dataframe thead th {\n",
              "        text-align: right;\n",
              "    }\n",
              "</style>\n",
              "<table border=\"1\" class=\"dataframe\">\n",
              "  <thead>\n",
              "    <tr style=\"text-align: right;\">\n",
              "      <th></th>\n",
              "      <th>stores_name</th>\n",
              "      <th>average_rate</th>\n",
              "    </tr>\n",
              "  </thead>\n",
              "  <tbody>\n",
              "    <tr>\n",
              "      <th>0</th>\n",
              "      <td>Brooklyn</td>\n",
              "      <td>0.04</td>\n",
              "    </tr>\n",
              "    <tr>\n",
              "      <th>1</th>\n",
              "      <td>Philadelphia</td>\n",
              "      <td>0.06</td>\n",
              "    </tr>\n",
              "  </tbody>\n",
              "</table>\n",
              "</div>"
            ],
            "text/plain": [
              "    stores_name  average_rate\n",
              "0      Brooklyn          0.04\n",
              "1  Philadelphia          0.06"
            ]
          },
          "execution_count": 49,
          "metadata": {},
          "output_type": "execute_result"
        }
      ],
      "source": [
        "dataset_kpi_tax_sales"
      ]
    },
    {
      "cell_type": "code",
      "execution_count": 53,
      "metadata": {},
      "outputs": [
        {
          "data": {
            "image/png": "[encoded data removed]",
            "text/plain": [
              "<Figure size 640x480 with 1 Axes>"
            ]
          },
          "metadata": {},
          "output_type": "display_data"
        }
      ],
      "source": [
        "# Création du graphique en barres\n",
        "ax = dataset_kpi_tax_sales.plot(kind='bar', x='stores_name', y='average_rate')\n",
        "\n",
        "for i in range(len(dataset_kpi_tax_sales)):\n",
        "    ax.text(round(i,2), round(dataset_kpi_tax_sales['average_rate'][i],2), round(dataset_kpi_tax_sales['average_rate'][i],2), ha='center', va='bottom', color = \"darkblue\", fontweight = 'bold')\n",
        "\n",
        "\n",
        "# Ajout des titres aux axes\n",
        "plt.xlabel('Magasins', size = 10, c = '#5D615B', fontweight = 'bold')\n",
        "plt.ylabel('Taux Moyen', size = 10, c = '#5D615B', fontweight = 'bold')\n",
        "plt.title('Taux Moyen par magasin', color = \"darkblue\", fontweight = 'bold', size = 16)\n",
        "\n",
        "# Affichage du graphique\n",
        "plt.show()"
      ]
    },
    {
      "cell_type": "markdown",
      "metadata": {},
      "source": [
        "## KPI 5"
      ]
    },
    {
      "cell_type": "code",
      "execution_count": 54,
      "metadata": {},
      "outputs": [
        {
          "data": {
            "text/html": [
              "<div>\n",
              "<style scoped>\n",
              "    .dataframe tbody tr th:only-of-type {\n",
              "        vertical-align: middle;\n",
              "    }\n",
              "\n",
              "    .dataframe tbody tr th {\n",
              "        vertical-align: top;\n",
              "    }\n",
              "\n",
              "    .dataframe thead th {\n",
              "        text-align: right;\n",
              "    }\n",
              "</style>\n",
              "<table border=\"1\" class=\"dataframe\">\n",
              "  <thead>\n",
              "    <tr style=\"text-align: right;\">\n",
              "      <th></th>\n",
              "      <th>customer_name</th>\n",
              "      <th>total_ordered</th>\n",
              "    </tr>\n",
              "  </thead>\n",
              "  <tbody>\n",
              "    <tr>\n",
              "      <th>0</th>\n",
              "      <td>Brett Santiago</td>\n",
              "      <td>77600</td>\n",
              "    </tr>\n",
              "    <tr>\n",
              "      <th>1</th>\n",
              "      <td>Michael Meza</td>\n",
              "      <td>179000</td>\n",
              "    </tr>\n",
              "    <tr>\n",
              "      <th>2</th>\n",
              "      <td>Joseph Smith</td>\n",
              "      <td>55500</td>\n",
              "    </tr>\n",
              "    <tr>\n",
              "      <th>3</th>\n",
              "      <td>Casey Barnes</td>\n",
              "      <td>36600</td>\n",
              "    </tr>\n",
              "    <tr>\n",
              "      <th>4</th>\n",
              "      <td>Patricia Williamson</td>\n",
              "      <td>35100</td>\n",
              "    </tr>\n",
              "    <tr>\n",
              "      <th>...</th>\n",
              "      <td>...</td>\n",
              "      <td>...</td>\n",
              "    </tr>\n",
              "    <tr>\n",
              "      <th>921</th>\n",
              "      <td>Samuel Stout</td>\n",
              "      <td>14100</td>\n",
              "    </tr>\n",
              "    <tr>\n",
              "      <th>922</th>\n",
              "      <td>Rodney Brandt</td>\n",
              "      <td>19200</td>\n",
              "    </tr>\n",
              "    <tr>\n",
              "      <th>923</th>\n",
              "      <td>Tyler Evans</td>\n",
              "      <td>40200</td>\n",
              "    </tr>\n",
              "    <tr>\n",
              "      <th>924</th>\n",
              "      <td>Rebecca Roberson</td>\n",
              "      <td>16500</td>\n",
              "    </tr>\n",
              "    <tr>\n",
              "      <th>925</th>\n",
              "      <td>Susan Maxwell</td>\n",
              "      <td>10100</td>\n",
              "    </tr>\n",
              "  </tbody>\n",
              "</table>\n",
              "<p>926 rows × 2 columns</p>\n",
              "</div>"
            ],
            "text/plain": [
              "           customer_name  total_ordered\n",
              "0         Brett Santiago          77600\n",
              "1           Michael Meza         179000\n",
              "2           Joseph Smith          55500\n",
              "3           Casey Barnes          36600\n",
              "4    Patricia Williamson          35100\n",
              "..                   ...            ...\n",
              "921         Samuel Stout          14100\n",
              "922        Rodney Brandt          19200\n",
              "923          Tyler Evans          40200\n",
              "924     Rebecca Roberson          16500\n",
              "925        Susan Maxwell          10100\n",
              "\n",
              "[926 rows x 2 columns]"
            ]
          },
          "execution_count": 54,
          "metadata": {},
          "output_type": "execute_result"
        }
      ],
      "source": [
        "dataset_kpi_customer_sales"
      ]
    },
    {
      "cell_type": "markdown",
      "metadata": {},
      "source": [
        "Pas de graphique."
      ]
    }
  ],
  "metadata": {
    "colab": {
      "provenance": [],
      "toc_visible": true
    },
    "kernelspec": {
      "display_name": "Python 3",
      "language": "python",
      "name": "python3"
    },
    "language_info": {
      "codemirror_mode": {
        "name": "ipython",
        "version": 3
      },
      "file_extension": ".py",
      "mimetype": "text/x-python",
      "name": "python",
      "nbconvert_exporter": "python",
      "pygments_lexer": "ipython3",
      "version": "3.13.1"
    }
  },
  "nbformat": 4,
  "nbformat_minor": 0
}
